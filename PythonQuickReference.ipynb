
# Two dimensional List accessing by row and element

a = [[1, 2, 3, 4], [5, 6], [7, 8, 9]]
s = 0
for row in a:
    for elem in row:
        s += elem
print(s)

# Two diementional list accessing by i and j

a = [[1, 2, 3, 4], [5, 6], [7, 8, 9]]
for i in range(len(a)):
    for j in range(len(a[i])):
        print(a[i][j], end=' ')
    print()


# Quick way of creating array

n = 3
m = 4
a = [[0] * m for i in range(n)]

# Input Multidimensional Array
# the first line of input is the number of rows of the array
n = int(input()) 
a = []
for i in range(n):
    a.append([int(j) for j in input().split()])
    

# Input Array from prompt-------------------
R = int(input("Enter the number of rows:")) 
C = int(input("Enter the number of columns:")) 
  
# Initialize matrix 
matrix = [] 
print("Enter the entries rowwise:") 
  
# For user input 
for i in range(R):          # A for loop for row entries 
    a =[] 
    for j in range(C):      # A for loop for column entries 
         a.append(int(input())) 
    matrix.append(a) 
  
# For printing the matrix 
for i in range(R): 
    for j in range(C): 
        print(matrix[i][j], end = " ") 
    print() 


# Set Elements has to be immutable. e.g. You cannot add list to set using set.add(list), but you can insert list elements into set
# by set.update(list). To add list to a set, use Tuple, because Tuple is immutable.
a = {2,3,4}
b = [5,6]
a.add(b) # Throws error because b is mutable.
a.update(b) # works because elements of b are insreted in a.
c = (22,33) # c is tuple and can be added as is to a set, because tuple is immutable.
a.add(c) # works and result will be {2,3,4,(22,33)} 



#End-------------------------------------


    
    

